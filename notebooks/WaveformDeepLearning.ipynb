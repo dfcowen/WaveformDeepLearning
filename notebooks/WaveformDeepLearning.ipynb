{
 "cells": [
  {
   "cell_type": "code",
   "execution_count": 82,
   "metadata": {},
   "outputs": [],
   "source": [
    "import os\n",
    "import numpy as np\n",
    "\n",
    "data_dir = '/home/dfc13/WaveformDeepLearning/data/SPEs/d1_shifted/'\n",
    "times = []\n",
    "ADCs = []\n",
    "for filename in os.listdir(data_dir)[:9]:\n",
    "    if filename.endswith(\".txt\"):\n",
    "        times.append([])\n",
    "        ADCs.append([])\n",
    "        filename = os.path.join(data_dir, filename)\n",
    "        with open(filename) as f:\n",
    "            lines = f.readlines()\n",
    "\n",
    "#        lines = data.split('\\n')\n",
    "        # Extract just the lines with (t,Q) data\n",
    "        lines = lines[5:]\n",
    "#\n",
    "        for line in lines:\n",
    "            if not line == '':\n",
    "                # append data with time in ns and ADC value ranging from -1 to 1\n",
    "                times[-1].append(float(line.split(',')[0])*1.e9)\n",
    "                ADCs[-1].append(float(line.split(',')[1])/40.e-3)\n",
    "targets = np.full(len(ADCs),1.0) # if it is an SPE, label it with a \"1\""
   ]
  },
  {
   "cell_type": "code",
   "execution_count": 83,
   "metadata": {},
   "outputs": [],
   "source": [
    "times = np.array(times)\n",
    "ADCs = np.array(ADCs)\n",
    "targets = np.array(targets)"
   ]
  },
  {
   "cell_type": "code",
   "execution_count": 84,
   "metadata": {},
   "outputs": [
    {
     "name": "stdout",
     "output_type": "stream",
     "text": [
      "(9, 3950) (9, 3950) (9,)\n",
      "[1. 1. 1. 1. 1. 1. 1. 1. 1.]\n",
      "-0.29109999999999997 0.072575 0.36367499999999997\n",
      "-28.7 174.0 202.7\n"
     ]
    }
   ],
   "source": [
    "print times.shape,ADCs.shape, targets.shape\n",
    "print targets\n",
    "#print times,ADCs\n",
    "print ADCs.min(),ADCs.max(),ADCs.max()-ADCs.min()\n",
    "print times.min(),times.max(),times.max()-times.min()"
   ]
  },
  {
   "cell_type": "code",
   "execution_count": 85,
   "metadata": {},
   "outputs": [],
   "source": [
    "data_dir = '/home/dfc13/WaveformDeepLearning/data/SPEs/not_spe/'\n",
    "ns_times = []\n",
    "ns_ADCs = []\n",
    "for filename in os.listdir(data_dir)[:9]:\n",
    "    if filename.endswith(\".txt\"):\n",
    "        ns_times.append([])\n",
    "        ns_ADCs.append([])\n",
    "        filename = os.path.join(data_dir, filename)\n",
    "        with open(filename) as f:\n",
    "            lines = f.readlines()\n",
    "\n",
    "#        lines = data.split('\\n')\n",
    "        # Extract just the lines with (t,Q) data\n",
    "        lines = lines[5:]\n",
    "#\n",
    "        for line in lines:\n",
    "            if not line == '':\n",
    "                # append data with time in ns and ADC value ranging from -1 to 1\n",
    "                ns_times[-1].append(float(line.split(',')[0])*1.e9)\n",
    "                ns_ADCs[-1].append(float(line.split(',')[1])/40.e-3)\n",
    "ns_targets = np.full(len(ns_ADCs),0.0) # if it is an SPE, label it with a \"1\""
   ]
  },
  {
   "cell_type": "code",
   "execution_count": 86,
   "metadata": {},
   "outputs": [],
   "source": [
    "ns_times = np.array(ns_times)\n",
    "ns_ADCs = np.array(ns_ADCs)\n",
    "ns_targets = np.array(ns_targets)"
   ]
  },
  {
   "cell_type": "code",
   "execution_count": 87,
   "metadata": {},
   "outputs": [
    {
     "name": "stdout",
     "output_type": "stream",
     "text": [
      "(9, 3950) (9, 3950) (9,)\n",
      "[0. 0. 0. 0. 0. 0. 0. 0. 0.]\n",
      "-0.033075 0.031175 0.06425\n",
      "466.90744 664.3902400000001 197.48280000000005\n"
     ]
    }
   ],
   "source": [
    "print ns_times.shape,ns_ADCs.shape,ns_targets.shape\n",
    "print ns_targets\n",
    "#print ns_times,ns_ADCs\n",
    "print ns_ADCs.min(),ns_ADCs.max(),ns_ADCs.max()-ns_ADCs.min()\n",
    "print ns_times.min(),ns_times.max(),ns_times.max()-ns_times.min()"
   ]
  },
  {
   "cell_type": "code",
   "execution_count": 93,
   "metadata": {},
   "outputs": [],
   "source": [
    "all_targets = []\n",
    "all_targets = np.array(all_targets)\n",
    "all_targets = np.concatenate((targets,ns_targets),axis=0)\n",
    "#\n",
    "all_ADCs = []\n",
    "all_ADCs = np.array(all_ADCs)\n",
    "all_ADCs = np.concatenate((ADCs,ns_ADCs),axis=0)"
   ]
  },
  {
   "cell_type": "code",
   "execution_count": 95,
   "metadata": {},
   "outputs": [
    {
     "name": "stdout",
     "output_type": "stream",
     "text": [
      " (18, 3950) (9, 3950) (9, 3950)\n",
      "[[ 1.8750e-03  1.9250e-03  2.0500e-03 ...  5.9575e-02  6.6000e-02\n",
      "   7.2575e-02]\n",
      " [-1.0000e-03 -9.2500e-04 -8.5000e-04 ... -1.0200e-02 -1.1925e-02\n",
      "  -1.3675e-02]\n",
      " [ 1.1500e-03  1.0250e-03  8.5000e-04 ... -1.0575e-02 -1.1875e-02\n",
      "  -1.3200e-02]\n",
      " ...\n",
      " [ 6.2750e-03  6.5750e-03  6.8750e-03 ...  1.7850e-02  1.9375e-02\n",
      "   2.0925e-02]\n",
      " [-6.0000e-04 -5.0000e-04 -4.0000e-04 ... -2.0000e-04 -1.2500e-04\n",
      "  -7.5000e-05]\n",
      " [ 2.8750e-03  2.7500e-03  2.6000e-03 ...  6.1750e-03  5.6500e-03\n",
      "   5.1000e-03]] \n",
      "[[ 1.8750e-03  1.9250e-03  2.0500e-03 ...  5.9575e-02  6.6000e-02\n",
      "   7.2575e-02]\n",
      " [-1.0000e-03 -9.2500e-04 -8.5000e-04 ... -1.0200e-02 -1.1925e-02\n",
      "  -1.3675e-02]\n",
      " [ 1.1500e-03  1.0250e-03  8.5000e-04 ... -1.0575e-02 -1.1875e-02\n",
      "  -1.3200e-02]\n",
      " ...\n",
      " [-3.7750e-03 -4.2500e-03 -4.7000e-03 ...  5.0250e-03  5.7250e-03\n",
      "   6.4750e-03]\n",
      " [-1.0000e-04 -1.0000e-04 -1.0000e-04 ...  1.1000e-02  1.2150e-02\n",
      "   1.3325e-02]\n",
      " [ 3.5750e-03  3.4250e-03  3.2750e-03 ... -1.3500e-03 -2.2250e-03\n",
      "  -3.1500e-03]] \n",
      "[[-6.2500e-03 -6.5500e-03 -6.8250e-03 ... -1.2375e-02 -1.3500e-02\n",
      "  -1.4650e-02]\n",
      " [-1.7000e-03 -1.6000e-03 -1.5250e-03 ...  3.9750e-03  4.8500e-03\n",
      "   5.7500e-03]\n",
      " [ 5.7000e-03  5.9000e-03  6.0500e-03 ... -2.8025e-02 -3.0525e-02\n",
      "  -3.3075e-02]\n",
      " ...\n",
      " [ 6.2750e-03  6.5750e-03  6.8750e-03 ...  1.7850e-02  1.9375e-02\n",
      "   2.0925e-02]\n",
      " [-6.0000e-04 -5.0000e-04 -4.0000e-04 ... -2.0000e-04 -1.2500e-04\n",
      "  -7.5000e-05]\n",
      " [ 2.8750e-03  2.7500e-03  2.6000e-03 ...  6.1750e-03  5.6500e-03\n",
      "   5.1000e-03]]\n",
      "(18,) (9,) (9,)\n",
      "[1. 1. 1. 1. 1. 1. 1. 1. 1. 0. 0. 0. 0. 0. 0. 0. 0. 0.] \n",
      "[1. 1. 1. 1. 1. 1. 1. 1. 1.] \n",
      "[0. 0. 0. 0. 0. 0. 0. 0. 0.]\n"
     ]
    }
   ],
   "source": [
    "print all_ADCs.shape,ADCs.shape,ns_ADCs.shape\n",
    "print all_ADCs,\"\\n\",ADCs,\"\\n\",ns_ADCs\n",
    "print all_targets.shape,targets.shape,ns_targets.shape\n",
    "print all_targets,\"\\n\",targets,\"\\n\",ns_targets"
   ]
  },
  {
   "cell_type": "markdown",
   "metadata": {},
   "source": [
    "Do I need to merge time & ADC for each set of data, or can I just use the ADC data?\n",
    "Create array of vectors containing (target,time+ADC)\n",
    "Mix them up to avoid lack of \"commutativity\" in DNN"
   ]
  },
  {
   "cell_type": "code",
   "execution_count": 96,
   "metadata": {},
   "outputs": [],
   "source": [
    "from sklearn.model_selection import train_test_split\n",
    "ADCs_train, ADCs_test, targets_train, targets_test = train_test_split(all_ADCs, all_targets, test_size=0.33, random_state=42)"
   ]
  },
  {
   "cell_type": "code",
   "execution_count": 97,
   "metadata": {},
   "outputs": [
    {
     "name": "stdout",
     "output_type": "stream",
     "text": [
      "[[-6.0000e-04 -5.0000e-04 -4.0000e-04 ... -2.0000e-04 -1.2500e-04\n",
      "  -7.5000e-05]\n",
      " [ 6.2750e-03  6.5750e-03  6.8750e-03 ...  1.7850e-02  1.9375e-02\n",
      "   2.0925e-02]\n",
      " [ 5.7000e-03  5.9000e-03  6.0500e-03 ... -2.8025e-02 -3.0525e-02\n",
      "  -3.3075e-02]\n",
      " ...\n",
      " [-1.7000e-03 -1.6000e-03 -1.5250e-03 ...  3.9750e-03  4.8500e-03\n",
      "   5.7500e-03]\n",
      " [ 2.5000e-03  2.4500e-03  2.4000e-03 ... -7.7250e-03 -8.4500e-03\n",
      "  -9.2000e-03]\n",
      " [-3.7750e-03 -4.2500e-03 -4.7000e-03 ...  5.0250e-03  5.7250e-03\n",
      "   6.4750e-03]] [0. 0. 0. 1. 0. 0. 1. 0. 1. 0. 0. 1.]\n",
      "-----\n",
      "[[ 0.001875  0.001925  0.00205  ...  0.059575  0.066     0.072575]\n",
      " [-0.001    -0.000925 -0.00085  ... -0.0102   -0.011925 -0.013675]\n",
      " [ 0.003575  0.003425  0.003275 ... -0.00135  -0.002225 -0.00315 ]\n",
      " [ 0.003975  0.004175  0.004375 ...  0.011375  0.012925  0.0145  ]\n",
      " [-0.002225 -0.002625 -0.002975 ...  0.0056    0.005875  0.006125]\n",
      " [ 0.002925  0.00285   0.00275  ...  0.02665   0.0289    0.031175]] [1. 1. 1. 1. 1. 0.]\n"
     ]
    }
   ],
   "source": [
    "print ADCs_train, targets_train\n",
    "print \"-----\"\n",
    "print ADCs_test, targets_test"
   ]
  },
  {
   "cell_type": "code",
   "execution_count": null,
   "metadata": {},
   "outputs": [],
   "source": []
  }
 ],
 "metadata": {
  "kernelspec": {
   "display_name": "Python 2",
   "language": "python",
   "name": "python2"
  },
  "language_info": {
   "codemirror_mode": {
    "name": "ipython",
    "version": 2
   },
   "file_extension": ".py",
   "mimetype": "text/x-python",
   "name": "python",
   "nbconvert_exporter": "python",
   "pygments_lexer": "ipython2",
   "version": "2.7.15"
  }
 },
 "nbformat": 4,
 "nbformat_minor": 2
}
