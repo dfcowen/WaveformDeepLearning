{
 "cells": [
  {
   "cell_type": "code",
   "execution_count": 34,
   "metadata": {},
   "outputs": [],
   "source": [
    "import os\n",
    "import numpy as np\n",
    "\n",
    "data_dir = '/home/dfc13/DeepLearningWithPython/data/SPEs/d1_shifted/'\n",
    "times = []\n",
    "ADCs = []\n",
    "for filename in os.listdir(data_dir)[:9]:\n",
    "    if filename.endswith(\".txt\"):\n",
    "        times.append([])\n",
    "        ADCs.append([])\n",
    "        filename = os.path.join(data_dir, filename)\n",
    "        with open(filename) as f:\n",
    "            lines = f.readlines()\n",
    "\n",
    "#        lines = data.split('\\n')\n",
    "        # Extract just the lines with (t,Q) data\n",
    "        lines = lines[5:]\n",
    "#\n",
    "        for line in lines:\n",
    "            if not line == '':\n",
    "                times[-1].append(float(line.split(',')[0])*1.e9)\n",
    "                ADCs[-1].append(float(line.split(',')[1]))"
   ]
  },
  {
   "cell_type": "markdown",
   "metadata": {},
   "source": [
    "Normalize the data."
   ]
  },
  {
   "cell_type": "code",
   "execution_count": 29,
   "metadata": {},
   "outputs": [],
   "source": [
    "times = np.array(times)\n",
    "ADCs = np.array(ADCs)"
   ]
  },
  {
   "cell_type": "code",
   "execution_count": 30,
   "metadata": {},
   "outputs": [
    {
     "data": {
      "text/plain": [
       "(9, 3950)"
      ]
     },
     "execution_count": 30,
     "metadata": {},
     "output_type": "execute_result"
    }
   ],
   "source": [
    "times.shape"
   ]
  },
  {
   "cell_type": "code",
   "execution_count": 31,
   "metadata": {},
   "outputs": [
    {
     "data": {
      "text/plain": [
       "(9, 3950)"
      ]
     },
     "execution_count": 31,
     "metadata": {},
     "output_type": "execute_result"
    }
   ],
   "source": [
    "ADCs.shape"
   ]
  },
  {
   "cell_type": "code",
   "execution_count": 32,
   "metadata": {},
   "outputs": [
    {
     "data": {
      "text/plain": [
       "array([[-26.7 , -26.65, -26.6 , ..., 170.65, 170.7 , 170.75],\n",
       "       [-24.5 , -24.45, -24.4 , ..., 172.85, 172.9 , 172.95],\n",
       "       [-28.7 , -28.65, -28.6 , ..., 168.65, 168.7 , 168.75],\n",
       "       ...,\n",
       "       [-28.1 , -28.05, -28.  , ..., 169.25, 169.3 , 169.35],\n",
       "       [-24.35, -24.3 , -24.25, ..., 173.  , 173.05, 173.1 ],\n",
       "       [-25.25, -25.2 , -25.15, ..., 172.1 , 172.15, 172.2 ]])"
      ]
     },
     "execution_count": 32,
     "metadata": {},
     "output_type": "execute_result"
    }
   ],
   "source": [
    "times"
   ]
  },
  {
   "cell_type": "code",
   "execution_count": 33,
   "metadata": {},
   "outputs": [
    {
     "data": {
      "text/plain": [
       "array([[ 7.500e-05,  7.700e-05,  8.200e-05, ...,  2.383e-03,  2.640e-03,\n",
       "         2.903e-03],\n",
       "       [-4.000e-05, -3.700e-05, -3.400e-05, ..., -4.080e-04, -4.770e-04,\n",
       "        -5.470e-04],\n",
       "       [ 4.600e-05,  4.100e-05,  3.400e-05, ..., -4.230e-04, -4.750e-04,\n",
       "        -5.280e-04],\n",
       "       ...,\n",
       "       [-1.510e-04, -1.700e-04, -1.880e-04, ...,  2.010e-04,  2.290e-04,\n",
       "         2.590e-04],\n",
       "       [-4.000e-06, -4.000e-06, -4.000e-06, ...,  4.400e-04,  4.860e-04,\n",
       "         5.330e-04],\n",
       "       [ 1.430e-04,  1.370e-04,  1.310e-04, ..., -5.400e-05, -8.900e-05,\n",
       "        -1.260e-04]])"
      ]
     },
     "execution_count": 33,
     "metadata": {},
     "output_type": "execute_result"
    }
   ],
   "source": [
    "ADCs"
   ]
  },
  {
   "cell_type": "code",
   "execution_count": null,
   "metadata": {},
   "outputs": [],
   "source": []
  }
 ],
 "metadata": {
  "kernelspec": {
   "display_name": "Python 2",
   "language": "python",
   "name": "python2"
  },
  "language_info": {
   "codemirror_mode": {
    "name": "ipython",
    "version": 2
   },
   "file_extension": ".py",
   "mimetype": "text/x-python",
   "name": "python",
   "nbconvert_exporter": "python",
   "pygments_lexer": "ipython2",
   "version": "2.7.15"
  }
 },
 "nbformat": 4,
 "nbformat_minor": 2
}
